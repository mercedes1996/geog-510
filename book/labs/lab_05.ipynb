{
 "cells": [
  {
   "cell_type": "markdown",
   "id": "0",
   "metadata": {},
   "source": [
    "# Lab 5\n",
    "\n",
    "## Exercise 1: Calculating Distances with Functions\n",
    "\n",
    "- Define a function `calculate_distance` that takes two geographic coordinates (latitude and longitude) and returns the distance between them using the Haversine formula.\n",
    "- Use this function to calculate the distance between multiple pairs of coordinates."
   ]
  },
  {
   "cell_type": "code",
   "execution_count": 13,
   "id": "2415fe43",
   "metadata": {},
   "outputs": [],
   "source": [
    "from math import radians, sin, cos, sqrt, atan2"
   ]
  },
  {
   "cell_type": "code",
   "execution_count": 14,
   "id": "721c4f98",
   "metadata": {},
   "outputs": [
    {
     "name": "stdout",
     "output_type": "stream",
     "text": [
      "Distance: 3584.36 km\n"
     ]
    }
   ],
   "source": [
    "def haversine(lat1, lon1, lat2, lon2):\n",
    "    R = 6371.0  # Earth radius in kilometers\n",
    "    dlat = radians(lat2 - lat1)\n",
    "    dlon = radians(lon2 - lon1)\n",
    "    a = (\n",
    "        sin(dlat / 2) ** 2\n",
    "        + cos(radians(lat1)) * cos(radians(lat2)) * sin(dlon / 2) ** 2\n",
    "    )\n",
    "    c = 2 * atan2(sqrt(a), sqrt(1 - a))\n",
    "    distance = R * c\n",
    "    return distance\n",
    "\n",
    "\n",
    "# Example usage\n",
    "distance = haversine(38.6885, 19.6967, 30.0522, -18.2437)\n",
    "print(f\"Distance: {distance:.2f} km\")"
   ]
  },
  {
   "cell_type": "markdown",
   "id": "2",
   "metadata": {},
   "source": [
    "## Exercise 2: Batch Distance Calculation\n",
    "\n",
    "- Create a function `batch_distance_calculation` that accepts a list of coordinate pairs and returns a list of distances between consecutive pairs.\n",
    "- Test the function with a list of coordinates representing several cities."
   ]
  },
  {
   "cell_type": "code",
   "execution_count": 15,
   "id": "3",
   "metadata": {},
   "outputs": [],
   "source": [
    "from math import radians, sin, cos, sqrt, atan2"
   ]
  },
  {
   "cell_type": "code",
   "execution_count": 16,
   "id": "62a0304c",
   "metadata": {},
   "outputs": [
    {
     "name": "stdout",
     "output_type": "stream",
     "text": [
      "Distance Lima → Cusco: 574.58 km\n",
      "Distance Cusco → Tarapoto: 919.80 km\n",
      "Distance Tarapoto → Iquitos: 459.64 km\n"
     ]
    }
   ],
   "source": [
    "def haversine(lat1, lon1, lat2, lon2):\n",
    "    R = 6371.0  # Earth radius in kilometers\n",
    "    dlat = radians(lat2 - lat1)\n",
    "    dlon = radians(lon2 - lon1)\n",
    "    a = (\n",
    "        sin(dlat / 2) ** 2\n",
    "        + cos(radians(lat1)) * cos(radians(lat2)) * sin(dlon / 2) ** 2\n",
    "    )\n",
    "    c = 2 * atan2(sqrt(a), sqrt(1 - a))\n",
    "    distance = R * c\n",
    "    return distance\n",
    "\n",
    "lima = (-12.0464, -77.0428)\n",
    "cusco = (-13.5319, -71.9675)\n",
    "tarapoto = (-6.4833, -76.3667)\n",
    "iquitos = (-3.7491, -73.2538)\n",
    "\n",
    "distance_lima_cusco = haversine(*lima, *cusco)\n",
    "distance_cusco_tarapoto = haversine(*cusco, *tarapoto)\n",
    "distance_tarapoto_iquitos = haversine(*tarapoto, *iquitos)\n",
    "\n",
    "# 3 examples of distance calculation\n",
    "print(f\"Distance Lima → Cusco: {distance_lima_cusco:.2f} km\")\n",
    "print(f\"Distance Cusco → Tarapoto: {distance_cusco_tarapoto:.2f} km\")\n",
    "print(f\"Distance Tarapoto → Iquitos: {distance_tarapoto_iquitos:.2f} km\")"
   ]
  },
  {
   "cell_type": "markdown",
   "id": "4",
   "metadata": {},
   "source": [
    "## Exercise 3: Creating and Using a Point Class\n",
    "\n",
    "- Define a `Point` class to represent a geographic point with attributes `latitude`, `longitude`, and `name`.\n",
    "- Add a method `distance_to` that calculates the distance from one point to another.\n",
    "- Instantiate several `Point` objects and calculate the distance between them."
   ]
  },
  {
   "cell_type": "code",
   "execution_count": 17,
   "id": "5",
   "metadata": {},
   "outputs": [
    {
     "name": "stdout",
     "output_type": "stream",
     "text": [
      "lima (-12.0464, -77.0428)\n"
     ]
    }
   ],
   "source": [
    "class Point:\n",
    "    def __init__(self, latitude, longitude, name=None):\n",
    "        self.latitude = latitude\n",
    "        self.longitude = longitude\n",
    "        self.name = name\n",
    "\n",
    "    def __str__(self):\n",
    "        return f\"{self.name or 'Point'} ({self.latitude}, {self.longitude})\"\n",
    "\n",
    "\n",
    "# define a point in lima \n",
    "lima = Point(-12.0464, -77.0428, \"lima\")\n",
    "print(lima)"
   ]
  },
  {
   "cell_type": "code",
   "execution_count": 18,
   "id": "e66a0ec4",
   "metadata": {},
   "outputs": [
    {
     "name": "stdout",
     "output_type": "stream",
     "text": [
      "Distance from lima to cusco: 574.58 km\n"
     ]
    }
   ],
   "source": [
    "class Point:\n",
    "    def __init__(self, latitude, longitude, name=None):\n",
    "        self.latitude = latitude\n",
    "        self.longitude = longitude\n",
    "        self.name = name\n",
    "\n",
    "    def distance_to(self, other_point):\n",
    "        return haversine(\n",
    "            self.latitude, self.longitude, other_point.latitude, other_point.longitude\n",
    "        )\n",
    "\n",
    "\n",
    "\n",
    "lima = Point(-12.0464, -77.0428, \"lima\")\n",
    "cusco = Point(-13.5319, -71.9675, \"cusco\")\n",
    "print(\n",
    "    f\"Distance from {lima.name} to {cusco.name}: {lima.distance_to(cusco):.2f} km\"\n",
    ")"
   ]
  },
  {
   "cell_type": "markdown",
   "id": "6",
   "metadata": {},
   "source": [
    "## Exercise 4: Reading and Writing Files\n",
    "\n",
    "- Write a function `read_coordinates` that reads a file containing a list of coordinates (latitude, longitude) and returns them as a list of tuples.\n",
    "- Write another function `write_coordinates` that takes a list of coordinates and writes them to a new file.\n",
    "- Ensure that both functions handle exceptions, such as missing files or improperly formatted data."
   ]
  },
  {
   "cell_type": "code",
   "execution_count": 24,
   "id": "7",
   "metadata": {},
   "outputs": [
    {
     "name": "stdout",
     "output_type": "stream",
     "text": [
      "Sample file 'coordinates.txt' has been created successfully.\n"
     ]
    }
   ],
   "source": [
    "\n",
    "sample_data = \"\"\"-12.0464,-77.0428\n",
    "-13.532,-71.9675\n",
    "-3.766,-73.2538\"\"\"\n",
    "\n",
    "output_file = \"coordinates.txt\"\n",
    "\n",
    "try:\n",
    "    with open(output_file, \"w\") as file:\n",
    "        file.write(sample_data)\n",
    "    print(f\"Sample file '{output_file}' has been created successfully.\")\n",
    "except Exception as e:\n",
    "    print(f\"An error occurred while creating the file: {e}\")"
   ]
  },
  {
   "cell_type": "code",
   "execution_count": 27,
   "id": "7c7dd4cb",
   "metadata": {},
   "outputs": [
    {
     "name": "stdout",
     "output_type": "stream",
     "text": [
      "[(-12.0464, -77.0428), (-13.532, -71.9675), (-3.766, -73.2538)]\n",
      "Coordinates successfully written to output_coordinates.txt\n"
     ]
    }
   ],
   "source": [
    "def read_coordinates(file_path):\n",
    "    \"\"\"Reads coordinates from a file and returns a list of (latitude, longitude) tuples.\"\"\"\n",
    "    coordinates = []\n",
    "    try:\n",
    "        with open(file_path, \"r\") as file:\n",
    "            for line in file:\n",
    "                try:\n",
    "                    lat, lon = map(float, line.strip().split(\",\"))  \n",
    "                    coordinates.append((lat, lon))  \n",
    "                except ValueError:\n",
    "                    print(f\"Skipping invalid line: {line.strip()}\")  \n",
    "    except FileNotFoundError:\n",
    "        print(f\"Error: The file '{file_path}' was not found.\")\n",
    "    \n",
    "    return coordinates  \n",
    "\n",
    "def write_coordinates(file_path, coordinates):\n",
    "    \"\"\"Writes a list of coordinates to a file.\"\"\"\n",
    "    try:\n",
    "        with open(file_path, \"w\") as file:\n",
    "            for lat, lon in coordinates:\n",
    "                file.write(f\"Latitude: {lat}, Longitude: {lon}\\n\")\n",
    "        print(f\"Coordinates successfully written to {file_path}\")\n",
    "    except Exception as e:\n",
    "        print(f\"Error writing to file: {e}\")\n",
    "\n",
    "\n",
    "\n",
    "input_file = \"coordinates.txt\"\n",
    "output_file = \"output_coordinates.txt\"\n",
    "\n",
    "coords = read_coordinates(input_file)  \n",
    "print(coords) \n",
    "\n",
    "if coords: \n",
    "    write_coordinates(output_file, coords)\n"
   ]
  },
  {
   "cell_type": "markdown",
   "id": "8",
   "metadata": {},
   "source": [
    "## Exercise 5: Processing Coordinates from a File\n",
    "\n",
    "- Create a function that reads coordinates from a file and uses the `Point` class to create `Point` objects.\n",
    "- Calculate the distance between each consecutive pair of points and write the results to a new file.\n",
    "- Ensure the function handles file-related exceptions and gracefully handles improperly formatted lines."
   ]
  },
  {
   "cell_type": "code",
   "execution_count": 34,
   "id": "9",
   "metadata": {},
   "outputs": [
    {
     "name": "stdout",
     "output_type": "stream",
     "text": [
      "Sample file 'coordinates.txt' has been created successfully.\n"
     ]
    }
   ],
   "source": [
    "sample_data = \"\"\"35.6895,139.6917\n",
    "34.0522,-118.2437\n",
    "51.5074,-0.1278\n",
    "-33.8688,151.2093\n",
    "48.8566,2.3522\"\"\"\n",
    "\n",
    "output_file = \"coordinates.txt\"\n",
    "\n",
    "try:\n",
    "    with open(output_file, \"w\") as file:\n",
    "        file.write(sample_data)\n",
    "    print(f\"Sample file '{output_file}' has been created successfully.\")\n",
    "except Exception as e:\n",
    "    print(f\"An error occurred while creating the file: {e}\")"
   ]
  },
  {
   "cell_type": "code",
   "execution_count": 36,
   "id": "580d7f22",
   "metadata": {},
   "outputs": [
    {
     "name": "stdout",
     "output_type": "stream",
     "text": [
      "Collecting geopy\n",
      "  Using cached geopy-2.4.1-py3-none-any.whl.metadata (6.8 kB)\n",
      "Collecting geographiclib<3,>=1.52 (from geopy)\n",
      "  Using cached geographiclib-2.0-py3-none-any.whl.metadata (1.4 kB)\n",
      "Using cached geopy-2.4.1-py3-none-any.whl (125 kB)\n",
      "Using cached geographiclib-2.0-py3-none-any.whl (40 kB)\n",
      "Installing collected packages: geographiclib, geopy\n",
      "Successfully installed geographiclib-2.0 geopy-2.4.1\n"
     ]
    }
   ],
   "source": [
    "!pip install geopy\n"
   ]
  },
  {
   "cell_type": "code",
   "execution_count": 37,
   "id": "10",
   "metadata": {},
   "outputs": [
    {
     "name": "stdout",
     "output_type": "stream",
     "text": [
      "Distances successfully written to distances.txt\n"
     ]
    }
   ],
   "source": [
    "from geopy.distance import geodesic\n",
    "\n",
    "class Point:\n",
    "    \"\"\"Represents a geographic point with latitude and longitude.\"\"\"\n",
    "    def __init__(self, latitude, longitude):\n",
    "        self.latitude = latitude\n",
    "        self.longitude = longitude\n",
    "\n",
    "    def get_coordinates(self):\n",
    "        return (self.latitude, self.longitude)\n",
    "\n",
    "def read_points(file_path):\n",
    "    \"\"\"Reads a file with coordinates and returns a list of Point objects.\"\"\"\n",
    "    points = []\n",
    "    try:\n",
    "        with open(file_path, \"r\") as file:\n",
    "            for line in file:\n",
    "                try:\n",
    "                    lat, lon = map(float, line.strip().split(\",\"))\n",
    "                    points.append(Point(lat, lon))\n",
    "                except ValueError:\n",
    "                    print(f\"Skipping invalid line: {line.strip()}\")\n",
    "    except FileNotFoundError:\n",
    "        print(f\"Error: The file '{file_path}' was not found.\")\n",
    "    \n",
    "    return points\n",
    "\n",
    "def calculate_distances(points, output_file):\n",
    "    \"\"\"Calculates distances between consecutive points and writes results to a file.\"\"\"\n",
    "    try:\n",
    "        with open(output_file, \"w\") as file:\n",
    "            for i in range(len(points) - 1):\n",
    "                point1 = points[i].get_coordinates()\n",
    "                point2 = points[i + 1].get_coordinates()\n",
    "                distance = geodesic(point1, point2).kilometers\n",
    "                file.write(f\"Distance between {point1} and {point2}: {distance:.2f} km\\n\")\n",
    "        print(f\"Distances successfully written to {output_file}\")\n",
    "    except Exception as e:\n",
    "        print(f\"Error writing to file: {e}\")\n",
    "\n",
    "# Example usage:\n",
    "input_file = \"coordinates.txt\"\n",
    "output_file = \"distances.txt\"\n",
    "\n",
    "points = read_points(input_file)  # Read coordinates as Point objects\n",
    "if points:  \n",
    "    calculate_distances(points, output_file)  # Calculate and save distances\n"
   ]
  },
  {
   "cell_type": "markdown",
   "id": "11",
   "metadata": {},
   "source": [
    "## Exercise 6: Exception Handling in Data Processing\n",
    "\n",
    "- Modify the `batch_distance_calculation` function to handle exceptions that might occur during the calculation, such as invalid coordinates.\n",
    "- Ensure the function skips invalid data and continues processing the remaining data."
   ]
  },
  {
   "cell_type": "code",
   "execution_count": 2,
   "id": "0b377f41",
   "metadata": {},
   "outputs": [
    {
     "name": "stdout",
     "output_type": "stream",
     "text": [
      "Error: not enough values to unpack (expected 2, got 1). Could not parse line: invalid data\n",
      "Calculated distances: [77.84047436934868, 155.62020173844135]\n"
     ]
    }
   ],
   "source": [
    "from geopy.distance import geodesic\n",
    "\n",
    "def parse_coordinates(line):\n",
    "    try:\n",
    "        lat, lon = line.strip().split(\",\")\n",
    "        lat = float(lat)\n",
    "        lon = float(lon)\n",
    "        return lat, lon\n",
    "    except ValueError as e:\n",
    "        print(f\"Error: {e}. Could not parse line: {line.strip()}\")\n",
    "        return None\n",
    "    except Exception as e:\n",
    "        print(f\"An unexpected error occurred: {e}\")\n",
    "        return None\n",
    "\n",
    "def batch_distance_calculation(coordinate_lines, reference_point):\n",
    "    distances = []\n",
    "    for line in coordinate_lines:\n",
    "        coords = parse_coordinates(line)\n",
    "        if coords:  # this is a valid coodinate \n",
    "            try:\n",
    "                distance = geodesic(reference_point, coords).kilometers\n",
    "                distances.append(distance)\n",
    "            except Exception as e:\n",
    "                print(f\"Error calculating distance for {coords}: {e}\")\n",
    "                continue  # this is a valid coordinate\n",
    "    return distances\n",
    "\n",
    "\n",
    "reference_point = (10.0, 20.0)  \n",
    "coordinate_lines = [\n",
    "    \"10.5,20.5\",\n",
    "    \"invalid data\",\n",
    "    \"11.0,21.0\"\n",
    "]\n",
    "\n",
    "distances = batch_distance_calculation(coordinate_lines, reference_point)\n",
    "print(\"Calculated distances:\", distances)\n"
   ]
  },
  {
   "cell_type": "code",
   "execution_count": null,
   "id": "1f3412bd",
   "metadata": {},
   "outputs": [],
   "source": []
  },
  {
   "cell_type": "markdown",
   "id": "13",
   "metadata": {},
   "source": [
    "## Exercise 7: NumPy Array Operations and Geospatial Coordinates\n",
    "\n",
    "In this exercise, you will work with NumPy arrays representing geospatial coordinates (latitude and longitude) and perform basic array operations.\n",
    "\n",
    "1. Create a 2D NumPy array containing the latitude and longitude of the following cities: Tokyo (35.6895, 139.6917), New York (40.7128, -74.0060), London (51.5074, -0.1278), and Paris (48.8566, 2.3522).\n",
    "2. Convert the latitude and longitude values from degrees to radians using np.radians().\n",
    "3. Calculate the element-wise difference between Tokyo and the other cities' latitude and longitude in radians."
   ]
  },
  {
   "cell_type": "code",
   "execution_count": 2,
   "id": "14",
   "metadata": {},
   "outputs": [],
   "source": [
    "import numpy as np"
   ]
  },
  {
   "cell_type": "code",
   "execution_count": 3,
   "id": "591db691",
   "metadata": {},
   "outputs": [
    {
     "name": "stdout",
     "output_type": "stream",
     "text": [
      "1D Array: [1 2 3 4 5]\n"
     ]
    }
   ],
   "source": [
    "# Creating a 1D array\n",
    "arr_1d = np.array([1, 2, 3, 4, 5])\n",
    "print(f\"1D Array: {arr_1d}\")"
   ]
  },
  {
   "cell_type": "code",
   "execution_count": 4,
   "id": "fccbaa39",
   "metadata": {},
   "outputs": [],
   "source": [
    "cities = np.array([\n",
    "    [35.6895, 139.6917],  # Tokyo\n",
    "    [40.7128, -74.0060],  # New York\n",
    "    [51.5074, -0.1278],   # London\n",
    "    [48.8566, 2.3522]     # Paris\n",
    "])"
   ]
  },
  {
   "cell_type": "code",
   "execution_count": 5,
   "id": "6b9ed2cc",
   "metadata": {},
   "outputs": [
    {
     "name": "stdout",
     "output_type": "stream",
     "text": [
      "[[ 3.568950e+01  1.396917e+02]\n",
      " [ 4.071280e+01 -7.400600e+01]\n",
      " [ 5.150740e+01 -1.278000e-01]\n",
      " [ 4.885660e+01  2.352200e+00]]\n"
     ]
    }
   ],
   "source": [
    "cities_radius = np.array (cities)\n",
    "print(cities_radius)"
   ]
  },
  {
   "cell_type": "code",
   "execution_count": 6,
   "id": "9b00f825",
   "metadata": {},
   "outputs": [],
   "source": [
    "tokio_radius = cities_radius[0]\n",
    "diferencia = cities_radius - tokio_radius"
   ]
  },
  {
   "cell_type": "code",
   "execution_count": 7,
   "id": "c9b78cbc",
   "metadata": {},
   "outputs": [
    {
     "name": "stdout",
     "output_type": "stream",
     "text": [
      "cities in radians : /n [[ 3.568950e+01  1.396917e+02]\n",
      " [ 4.071280e+01 -7.400600e+01]\n",
      " [ 5.150740e+01 -1.278000e-01]\n",
      " [ 4.885660e+01  2.352200e+00]]\n",
      "/nElement-wise difference from Tokyo:/n [[   0.        0.    ]\n",
      " [   5.0233 -213.6977]\n",
      " [  15.8179 -139.8195]\n",
      " [  13.1671 -137.3395]]\n"
     ]
    }
   ],
   "source": [
    "print(\"cities in radians : /n\" , cities_radius)\n",
    "print(\"/nElement-wise difference from Tokyo:/n\", diferencia)"
   ]
  },
  {
   "cell_type": "markdown",
   "id": "15",
   "metadata": {},
   "source": [
    "## Exercise 8: Pandas DataFrame Operations with Geospatial Data\n",
    "\n",
    "In this exercise, you'll use Pandas to load and manipulate a dataset containing city population data, and then calculate and visualize statistics.\n",
    "\n",
    "1. Load the world cities dataset from this URL using Pandas: https://github.com/opengeos/datasets/releases/download/world/world_cities.csv\n",
    "2. Display the first 5 rows and check for missing values.\n",
    "3. Filter the dataset to only include cities with a population greater than 1 million.\n",
    "4. Group the cities by their country and calculate the total population for each country.\n",
    "5. Sort the cities by population in descending order and display the top 10 cities."
   ]
  },
  {
   "cell_type": "code",
   "execution_count": 8,
   "id": "16",
   "metadata": {},
   "outputs": [],
   "source": [
    "import pandas as pd"
   ]
  },
  {
   "cell_type": "code",
   "execution_count": 13,
   "id": "7e73de95",
   "metadata": {},
   "outputs": [],
   "source": [
    "url = \"https://github.com/opengeos/datasets/releases/download/world/world_cities.csv\"\n",
    "df = pd.read_csv(url)\n"
   ]
  },
  {
   "cell_type": "code",
   "execution_count": 15,
   "id": "564e9baa",
   "metadata": {},
   "outputs": [
    {
     "name": "stdout",
     "output_type": "stream",
     "text": [
      "First 5 rows of the DataFrame:\n",
      "   id         name country  latitude  longitude  population\n",
      "0   1        Bombo     UGA    0.5833    32.5333       75000\n",
      "1   2  Fort Portal     UGA    0.6710    30.2750       42670\n",
      "2   3      Potenza     ITA   40.6420    15.7990       69060\n",
      "3   4   Campobasso     ITA   41.5630    14.6560       50762\n",
      "4   5        Aosta     ITA   45.7370     7.3150       34062\n"
     ]
    }
   ],
   "source": [
    "print(\"First 5 rows of the DataFrame:\")\n",
    "print(df.head())"
   ]
  },
  {
   "cell_type": "code",
   "execution_count": 16,
   "id": "b7899c3a",
   "metadata": {},
   "outputs": [
    {
     "name": "stdout",
     "output_type": "stream",
     "text": [
      "/nMissing values:/n id            0\n",
      "name          0\n",
      "country       0\n",
      "latitude      0\n",
      "longitude     0\n",
      "population    0\n",
      "dtype: int64\n",
      "id            0\n",
      "name          0\n",
      "country       0\n",
      "latitude      0\n",
      "longitude     0\n",
      "population    0\n",
      "dtype: int64\n"
     ]
    }
   ],
   "source": [
    "print(\"/nMissing values:/n\", df.isnull().sum())\n",
    "print(df.isnull().sum())"
   ]
  },
  {
   "cell_type": "code",
   "execution_count": 17,
   "id": "d2209eb9",
   "metadata": {},
   "outputs": [],
   "source": [
    "df_large_cities = df[df[\"population\"]>10**6]"
   ]
  },
  {
   "cell_type": "code",
   "execution_count": 18,
   "id": "f719780a",
   "metadata": {},
   "outputs": [],
   "source": [
    "country_population = df_large_cities.groupby(\"country\")[\"population\"].sum().reset_index()"
   ]
  },
  {
   "cell_type": "code",
   "execution_count": 19,
   "id": "7cb991e5",
   "metadata": {},
   "outputs": [],
   "source": [
    "top_cities= df_large_cities.sort_values(\"population\", ascending=False).head(10)"
   ]
  },
  {
   "cell_type": "code",
   "execution_count": 22,
   "id": "9accfe54",
   "metadata": {},
   "outputs": [
    {
     "name": "stdout",
     "output_type": "stream",
     "text": [
      "/nTop 10 Largest cities:/n         id          name country  latitude  longitude  population\n",
      "1239  1240         Tokyo     JPN  35.68502  139.75141    35676000\n",
      "1224  1225      New York     USA  40.74998  -73.98002    19040000\n",
      "1230  1231   Mexico City     MEX  19.44244  -99.13099    19028000\n",
      "1240  1241        Mumbai     IND  19.01699   72.85699    18978000\n",
      "1245  1246     Sao Paulo     BRA -23.55868  -46.62502    18845000\n",
      "1148  1149         Delhi     IND  28.66999   77.23000    15926000\n",
      "1238  1239      Shanghai     CHN  31.21645  121.43650    14987000\n",
      "1243  1244       Kolkata     IND  22.49497   88.32468    14787000\n",
      "1175  1176         Dhaka     BGD  23.72306   90.40858    12797394\n",
      "1217  1218  Buenos Aires     ARG -34.60250  -58.39753    12795000\n",
      "              name country  population\n",
      "1239         Tokyo     JPN    35676000\n",
      "1224      New York     USA    19040000\n",
      "1230   Mexico City     MEX    19028000\n",
      "1240        Mumbai     IND    18978000\n",
      "1245     Sao Paulo     BRA    18845000\n",
      "1148         Delhi     IND    15926000\n",
      "1238      Shanghai     CHN    14987000\n",
      "1243       Kolkata     IND    14787000\n",
      "1175         Dhaka     BGD    12797394\n",
      "1217  Buenos Aires     ARG    12795000\n"
     ]
    }
   ],
   "source": [
    "print(\"/nTop 10 Largest cities:/n\", top_cities)\n",
    "print(top_cities[['name', 'country', 'population']])\n"
   ]
  },
  {
   "cell_type": "code",
   "execution_count": 23,
   "id": "51423b98",
   "metadata": {},
   "outputs": [
    {
     "name": "stdout",
     "output_type": "stream",
     "text": [
      "\n",
      "Total population per country (only considering cities > 1M):\n",
      "    country  population\n",
      "18      CHN   203615000\n",
      "102     USA   134565743\n",
      "46      IND   134458000\n",
      "14      BRA    71900406\n",
      "53      JPN    61636000\n",
      "64      MEX    33318000\n",
      "82      RUS    25533000\n",
      "72      PAK    24504000\n",
      "45      IDN    20886000\n",
      "69      NGA    20462000\n"
     ]
    }
   ],
   "source": [
    "print(\"\\nTotal population per country (only considering cities > 1M):\")\n",
    "print(country_population.sort_values(by=\"population\", ascending=False).head(10))"
   ]
  },
  {
   "cell_type": "code",
   "execution_count": 12,
   "id": "f403746e",
   "metadata": {},
   "outputs": [
    {
     "data": {
      "application/vnd.microsoft.datawrangler.viewer.v0+json": {
       "columns": [
        {
         "name": "index",
         "rawType": "int64",
         "type": "integer"
        },
        {
         "name": "id",
         "rawType": "int64",
         "type": "integer"
        },
        {
         "name": "name",
         "rawType": "object",
         "type": "string"
        },
        {
         "name": "country",
         "rawType": "object",
         "type": "string"
        },
        {
         "name": "latitude",
         "rawType": "float64",
         "type": "float"
        },
        {
         "name": "longitude",
         "rawType": "float64",
         "type": "float"
        },
        {
         "name": "population",
         "rawType": "int64",
         "type": "integer"
        }
       ],
       "conversionMethod": "pd.DataFrame",
       "ref": "4bc054af-ceac-4ea2-8946-3a6234c16dc1",
       "rows": [
        [
         "97",
         "98",
         "Turin",
         "ITA",
         "45.07039",
         "7.66996",
         "1652000"
        ],
        [
         "103",
         "104",
         "Lille",
         "FRA",
         "50.64997",
         "3.08001",
         "1044000"
        ],
        [
         "123",
         "124",
         "San Bernardino",
         "USA",
         "34.12038",
         "-117.30003",
         "1745000"
        ],
        [
         "124",
         "125",
         "Bridgeport",
         "USA",
         "41.17998",
         "-73.19996",
         "1018000"
        ],
        [
         "126",
         "127",
         "Manchester",
         "GBR",
         "53.50042",
         "-2.24799",
         "2230000"
        ],
        [
         "127",
         "128",
         "Gujranwala",
         "PAK",
         "32.16043",
         "74.18502",
         "1513000"
        ],
        [
         "128",
         "129",
         "Incheon",
         "KOR",
         "37.47615",
         "126.64223",
         "2550000"
        ],
        [
         "129",
         "130",
         "Benin City",
         "NGA",
         "6.34048",
         "5.62001",
         "1190000"
        ],
        [
         "130",
         "131",
         "Xiamen",
         "CHN",
         "24.44999",
         "118.08002",
         "2519000"
        ],
        [
         "131",
         "132",
         "Nanchong",
         "CHN",
         "30.78043",
         "106.13",
         "2174000"
        ],
        [
         "132",
         "133",
         "Neijiang",
         "CHN",
         "29.58038",
         "105.05001",
         "1466000"
        ],
        [
         "133",
         "134",
         "Nanyang",
         "CHN",
         "33.0004",
         "112.53002",
         "1944000"
        ],
        [
         "134",
         "135",
         "Jinxi",
         "CHN",
         "40.75034",
         "120.82998",
         "2426000"
        ],
        [
         "135",
         "136",
         "Yantai",
         "CHN",
         "37.53041",
         "121.40002",
         "2116000"
        ],
        [
         "136",
         "137",
         "Zaozhuang",
         "CHN",
         "34.88",
         "117.57002",
         "2145000"
        ],
        [
         "137",
         "138",
         "Suzhou",
         "CHN",
         "31.30048",
         "120.62002",
         "1650000"
        ],
        [
         "138",
         "139",
         "Xuzhou",
         "CHN",
         "34.28001",
         "117.18002",
         "2091000"
        ],
        [
         "139",
         "140",
         "Wuxi",
         "CHN",
         "31.58",
         "120.29998",
         "1749000"
        ],
        [
         "140",
         "141",
         "Jilin",
         "CHN",
         "43.84997",
         "126.55004",
         "2396000"
        ],
        [
         "143",
         "144",
         "Sholapur",
         "IND",
         "17.67041",
         "75.90001",
         "1057000"
        ],
        [
         "144",
         "145",
         "Aurangabad",
         "IND",
         "19.8957",
         "75.3203",
         "1113000"
        ],
        [
         "145",
         "146",
         "Nasik",
         "IND",
         "20.00042",
         "73.77998",
         "1473000"
        ],
        [
         "148",
         "149",
         "Allahabad",
         "IND",
         "25.455",
         "81.84001",
         "1201000"
        ],
        [
         "150",
         "151",
         "Ghaziabad",
         "IND",
         "28.66038",
         "77.40839",
         "1341000"
        ],
        [
         "151",
         "152",
         "Agra",
         "IND",
         "27.17042",
         "78.01502",
         "1592000"
        ],
        [
         "153",
         "154",
         "Meerut",
         "IND",
         "29.00041",
         "77.7",
         "1398000"
        ],
        [
         "154",
         "155",
         "Dhanbad",
         "IND",
         "23.80039",
         "86.41999",
         "1246000"
        ],
        [
         "156",
         "157",
         "Vadodara",
         "IND",
         "22.31002",
         "73.18002",
         "1756000"
        ],
        [
         "157",
         "158",
         "Rajkot",
         "IND",
         "22.31002",
         "70.80001",
         "1260000"
        ],
        [
         "182",
         "183",
         "Kansas City",
         "USA",
         "39.10709",
         "-94.60409",
         "1469000"
        ],
        [
         "187",
         "188",
         "Ft. Worth",
         "USA",
         "32.73998",
         "-97.34004",
         "1440454"
        ],
        [
         "189",
         "190",
         "Austin",
         "USA",
         "30.26695",
         "-97.74278",
         "1161000"
        ],
        [
         "197",
         "198",
         "Orlando",
         "USA",
         "28.50998",
         "-81.38003",
         "1350000"
        ],
        [
         "201",
         "202",
         "Indianapolis",
         "USA",
         "39.74999",
         "-86.17005",
         "1436000"
        ],
        [
         "206",
         "207",
         "Baltimore",
         "USA",
         "39.29999",
         "-76.61998",
         "2255000"
        ],
        [
         "219",
         "220",
         "Dnipropetrovsk",
         "UKR",
         "48.47997",
         "35.00002",
         "1050000"
        ],
        [
         "221",
         "222",
         "Kharkiv",
         "UKR",
         "49.99998",
         "36.25002",
         "1461000"
        ],
        [
         "228",
         "229",
         "Haiphong",
         "VNM",
         "20.83001",
         "106.68009",
         "1969000"
        ],
        [
         "235",
         "236",
         "Douala",
         "CMR",
         "4.06041",
         "9.70999",
         "1906000"
        ],
        [
         "236",
         "237",
         "Birmingham",
         "GBR",
         "52.47497",
         "-1.92",
         "2285000"
        ],
        [
         "238",
         "239",
         "Izmir",
         "TUR",
         "38.43615",
         "27.15179",
         "2587000"
        ],
        [
         "239",
         "240",
         "Bursa",
         "TUR",
         "40.19999",
         "29.07",
         "1492000"
        ],
        [
         "242",
         "243",
         "Adana",
         "TUR",
         "36.99499",
         "35.32",
         "1293000"
        ],
        [
         "270",
         "271",
         "Medina",
         "SAU",
         "24.49999",
         "39.58",
         "1010000"
        ],
        [
         "274",
         "275",
         "Omdurman",
         "SDN",
         "15.61668",
         "32.48002",
         "2395159"
        ],
        [
         "276",
         "277",
         "The Hague",
         "NLD",
         "52.08004",
         "4.26996",
         "1406000"
        ],
        [
         "281",
         "282",
         "Doha",
         "QAT",
         "25.28656",
         "51.53297",
         "1450000"
        ],
        [
         "315",
         "316",
         "Rostov",
         "RUS",
         "47.23465",
         "39.71266",
         "1052000"
        ],
        [
         "322",
         "323",
         "Chelyabinsk",
         "RUS",
         "55.15499",
         "61.43867",
         "1091000"
        ],
        [
         "330",
         "331",
         "Omsk",
         "RUS",
         "54.98999",
         "73.39995",
         "1135000"
        ]
       ],
       "shape": {
        "columns": 6,
        "rows": 392
       }
      },
      "text/html": [
       "<div>\n",
       "<style scoped>\n",
       "    .dataframe tbody tr th:only-of-type {\n",
       "        vertical-align: middle;\n",
       "    }\n",
       "\n",
       "    .dataframe tbody tr th {\n",
       "        vertical-align: top;\n",
       "    }\n",
       "\n",
       "    .dataframe thead th {\n",
       "        text-align: right;\n",
       "    }\n",
       "</style>\n",
       "<table border=\"1\" class=\"dataframe\">\n",
       "  <thead>\n",
       "    <tr style=\"text-align: right;\">\n",
       "      <th></th>\n",
       "      <th>id</th>\n",
       "      <th>name</th>\n",
       "      <th>country</th>\n",
       "      <th>latitude</th>\n",
       "      <th>longitude</th>\n",
       "      <th>population</th>\n",
       "    </tr>\n",
       "  </thead>\n",
       "  <tbody>\n",
       "    <tr>\n",
       "      <th>97</th>\n",
       "      <td>98</td>\n",
       "      <td>Turin</td>\n",
       "      <td>ITA</td>\n",
       "      <td>45.07039</td>\n",
       "      <td>7.66996</td>\n",
       "      <td>1652000</td>\n",
       "    </tr>\n",
       "    <tr>\n",
       "      <th>103</th>\n",
       "      <td>104</td>\n",
       "      <td>Lille</td>\n",
       "      <td>FRA</td>\n",
       "      <td>50.64997</td>\n",
       "      <td>3.08001</td>\n",
       "      <td>1044000</td>\n",
       "    </tr>\n",
       "    <tr>\n",
       "      <th>123</th>\n",
       "      <td>124</td>\n",
       "      <td>San Bernardino</td>\n",
       "      <td>USA</td>\n",
       "      <td>34.12038</td>\n",
       "      <td>-117.30003</td>\n",
       "      <td>1745000</td>\n",
       "    </tr>\n",
       "    <tr>\n",
       "      <th>124</th>\n",
       "      <td>125</td>\n",
       "      <td>Bridgeport</td>\n",
       "      <td>USA</td>\n",
       "      <td>41.17998</td>\n",
       "      <td>-73.19996</td>\n",
       "      <td>1018000</td>\n",
       "    </tr>\n",
       "    <tr>\n",
       "      <th>126</th>\n",
       "      <td>127</td>\n",
       "      <td>Manchester</td>\n",
       "      <td>GBR</td>\n",
       "      <td>53.50042</td>\n",
       "      <td>-2.24799</td>\n",
       "      <td>2230000</td>\n",
       "    </tr>\n",
       "    <tr>\n",
       "      <th>...</th>\n",
       "      <td>...</td>\n",
       "      <td>...</td>\n",
       "      <td>...</td>\n",
       "      <td>...</td>\n",
       "      <td>...</td>\n",
       "      <td>...</td>\n",
       "    </tr>\n",
       "    <tr>\n",
       "      <th>1244</th>\n",
       "      <td>1245</td>\n",
       "      <td>Rio de Janeiro</td>\n",
       "      <td>BRA</td>\n",
       "      <td>-22.92502</td>\n",
       "      <td>-43.22502</td>\n",
       "      <td>11748000</td>\n",
       "    </tr>\n",
       "    <tr>\n",
       "      <th>1245</th>\n",
       "      <td>1246</td>\n",
       "      <td>Sao Paulo</td>\n",
       "      <td>BRA</td>\n",
       "      <td>-23.55868</td>\n",
       "      <td>-46.62502</td>\n",
       "      <td>18845000</td>\n",
       "    </tr>\n",
       "    <tr>\n",
       "      <th>1246</th>\n",
       "      <td>1247</td>\n",
       "      <td>Sydney</td>\n",
       "      <td>AUS</td>\n",
       "      <td>-33.92001</td>\n",
       "      <td>151.18518</td>\n",
       "      <td>4630000</td>\n",
       "    </tr>\n",
       "    <tr>\n",
       "      <th>1247</th>\n",
       "      <td>1248</td>\n",
       "      <td>Singapore</td>\n",
       "      <td>SGP</td>\n",
       "      <td>1.29303</td>\n",
       "      <td>103.85582</td>\n",
       "      <td>5183700</td>\n",
       "    </tr>\n",
       "    <tr>\n",
       "      <th>1248</th>\n",
       "      <td>1249</td>\n",
       "      <td>Hong Kong</td>\n",
       "      <td>CHN</td>\n",
       "      <td>22.30498</td>\n",
       "      <td>114.18501</td>\n",
       "      <td>7206000</td>\n",
       "    </tr>\n",
       "  </tbody>\n",
       "</table>\n",
       "<p>392 rows × 6 columns</p>\n",
       "</div>"
      ],
      "text/plain": [
       "        id            name country  latitude  longitude  population\n",
       "97      98           Turin     ITA  45.07039    7.66996     1652000\n",
       "103    104           Lille     FRA  50.64997    3.08001     1044000\n",
       "123    124  San Bernardino     USA  34.12038 -117.30003     1745000\n",
       "124    125      Bridgeport     USA  41.17998  -73.19996     1018000\n",
       "126    127      Manchester     GBR  53.50042   -2.24799     2230000\n",
       "...    ...             ...     ...       ...        ...         ...\n",
       "1244  1245  Rio de Janeiro     BRA -22.92502  -43.22502    11748000\n",
       "1245  1246       Sao Paulo     BRA -23.55868  -46.62502    18845000\n",
       "1246  1247          Sydney     AUS -33.92001  151.18518     4630000\n",
       "1247  1248       Singapore     SGP   1.29303  103.85582     5183700\n",
       "1248  1249       Hong Kong     CHN  22.30498  114.18501     7206000\n",
       "\n",
       "[392 rows x 6 columns]"
      ]
     },
     "execution_count": 12,
     "metadata": {},
     "output_type": "execute_result"
    }
   ],
   "source": [
    "# Filtering rows based on a condition\n",
    "df_head = df[df[\"population\"] > 1000000]\n",
    "df_head"
   ]
  },
  {
   "cell_type": "markdown",
   "id": "17",
   "metadata": {},
   "source": [
    "## Exercise 9: Creating and Manipulating GeoDataFrames with GeoPandas\n",
    "\n",
    "This exercise focuses on creating and manipulating GeoDataFrames, performing spatial operations, and visualizing the data.\n",
    "\n",
    "1. Load the New York City building dataset from the GeoJSON file using GeoPandas: https://github.com/opengeos/datasets/releases/download/places/nyc_buildings.geojson\n",
    "2. Create a plot of the building footprints and color them based on the building height (use the `height_MS` column).\n",
    "3. Create an interactive map of the building footprints and color them based on the building height (use the `height_MS` column).\n",
    "4. Calculate the average building height (use the `height_MS` column).\n",
    "5. Select buildings with a height greater than the average height.\n",
    "6. Save the GeoDataFrame to a new GeoJSON file."
   ]
  },
  {
   "cell_type": "code",
   "execution_count": 29,
   "id": "38d18f9d",
   "metadata": {},
   "outputs": [
    {
     "name": "stdout",
     "output_type": "stream",
     "text": [
      "Requirement already satisfied: geopandas in c:\\users\\mercedes\\miniconda3\\envs\\geo\\lib\\site-packages (1.0.1)\n",
      "Requirement already satisfied: numpy>=1.22 in c:\\users\\mercedes\\miniconda3\\envs\\geo\\lib\\site-packages (from geopandas) (2.2.2)\n",
      "Requirement already satisfied: pyogrio>=0.7.2 in c:\\users\\mercedes\\miniconda3\\envs\\geo\\lib\\site-packages (from geopandas) (0.10.0)\n",
      "Requirement already satisfied: packaging in c:\\users\\mercedes\\miniconda3\\envs\\geo\\lib\\site-packages (from geopandas) (24.2)\n",
      "Requirement already satisfied: pandas>=1.4.0 in c:\\users\\mercedes\\miniconda3\\envs\\geo\\lib\\site-packages (from geopandas) (2.2.3)\n",
      "Requirement already satisfied: pyproj>=3.3.0 in c:\\users\\mercedes\\miniconda3\\envs\\geo\\lib\\site-packages (from geopandas) (3.7.1)\n",
      "Requirement already satisfied: shapely>=2.0.0 in c:\\users\\mercedes\\miniconda3\\envs\\geo\\lib\\site-packages (from geopandas) (2.0.7)\n",
      "Requirement already satisfied: python-dateutil>=2.8.2 in c:\\users\\mercedes\\miniconda3\\envs\\geo\\lib\\site-packages (from pandas>=1.4.0->geopandas) (2.9.0.post0)\n",
      "Requirement already satisfied: pytz>=2020.1 in c:\\users\\mercedes\\miniconda3\\envs\\geo\\lib\\site-packages (from pandas>=1.4.0->geopandas) (2025.1)\n",
      "Requirement already satisfied: tzdata>=2022.7 in c:\\users\\mercedes\\miniconda3\\envs\\geo\\lib\\site-packages (from pandas>=1.4.0->geopandas) (2025.1)\n",
      "Requirement already satisfied: certifi in c:\\users\\mercedes\\miniconda3\\envs\\geo\\lib\\site-packages (from pyogrio>=0.7.2->geopandas) (2025.1.31)\n",
      "Requirement already satisfied: six>=1.5 in c:\\users\\mercedes\\miniconda3\\envs\\geo\\lib\\site-packages (from python-dateutil>=2.8.2->pandas>=1.4.0->geopandas) (1.17.0)\n",
      "Note: you may need to restart the kernel to use updated packages.\n"
     ]
    }
   ],
   "source": [
    "%pip install geopandas"
   ]
  },
  {
   "cell_type": "code",
   "execution_count": 27,
   "id": "49a43b32",
   "metadata": {},
   "outputs": [],
   "source": [
    "import pandas as pd\n",
    "import geopandas as gpd\n",
    "import matplotlib.pyplot as plt"
   ]
  },
  {
   "cell_type": "code",
   "execution_count": 30,
   "id": "b356e2c8",
   "metadata": {},
   "outputs": [],
   "source": [
    "url = \"https://github.com/opengeos/datasets/releases/download/places/nyc_buildings.geojson\"\n",
    "gdf = gpd.read_file(url)"
   ]
  },
  {
   "cell_type": "code",
   "execution_count": 31,
   "id": "59fd0092",
   "metadata": {},
   "outputs": [],
   "source": [
    "df = pd.DataFrame(gdf.drop(columns=\"geometry\"))"
   ]
  },
  {
   "cell_type": "code",
   "execution_count": 32,
   "id": "a6cca1f3",
   "metadata": {},
   "outputs": [
    {
     "data": {
      "image/png": "[encoded data removed]",
      "text/plain": [
       "<Figure size 1000x600 with 1 Axes>"
      ]
     },
     "metadata": {},
     "output_type": "display_data"
    }
   ],
   "source": [
    "plt.figure(figsize=(10,6))\n",
    "df['height_MS'].plot(kind='hist',bins=30, color='skyblue', edgecolor='black')\n",
    "plt.xlabel(\"Building Height (meteres)\")\n",
    "plt.ylabel(\"Frequency\")\n",
    "plt.title(\"Distribution of Building Heights in NYC\")\n",
    "plt.grid(True)\n",
    "plt.show()\n"
   ]
  },
  {
   "cell_type": "code",
   "execution_count": 33,
   "id": "5ec2718d",
   "metadata": {},
   "outputs": [
    {
     "name": "stdout",
     "output_type": "stream",
     "text": [
      "/nAverage building height: 15.45 meters\n"
     ]
    }
   ],
   "source": [
    "avg_height = df['height_MS'].mean()\n",
    "print(f\"/nAverage building height: {avg_height:.2f} meters\")"
   ]
  },
  {
   "cell_type": "code",
   "execution_count": 36,
   "id": "06efb31b",
   "metadata": {},
   "outputs": [
    {
     "name": "stdout",
     "output_type": "stream",
     "text": [
      "/nTaller buildings saved to 'nyc_taller_buildings.geojson'\n"
     ]
    }
   ],
   "source": [
    "output_file =\"nyc_taller_buildings.geojson\"\n",
    "taller_buildings = gdf[gdf['height_MS']>avg_height]\n",
    "print(f\"/nTaller buildings saved to '{output_file}'\")"
   ]
  },
  {
   "cell_type": "markdown",
   "id": "19",
   "metadata": {},
   "source": [
    "## Exercise 10: Combining NumPy, Pandas, and GeoPandas\n",
    "\n",
    "This exercise requires you to combine the power of NumPy, Pandas, and GeoPandas to analyze and visualize spatial data.\n",
    "\n",
    "1. Use Pandas to load the world cities dataset from this URL: https://github.com/opengeos/datasets/releases/download/world/world_cities.csv\n",
    "2. Filter the dataset to include only cities with latitude values between -40 and 60 (i.e., cities located in the Northern Hemisphere or near the equator).\n",
    "3. Create a GeoDataFrame from the filtered dataset by converting the latitude and longitude into geometries.\n",
    "4. Reproject the GeoDataFrame to the Mercator projection (EPSG:3857).\n",
    "5. Calculate the distance (in meters) between each city and the city of Paris.\n",
    "6. Plot the cities on a world map, coloring the points by their distance from Paris."
   ]
  },
  {
   "cell_type": "code",
   "execution_count": null,
   "id": "20",
   "metadata": {},
   "outputs": [],
   "source": []
  },
  {
   "cell_type": "markdown",
   "id": "21",
   "metadata": {},
   "source": [
    "## Submission Requirements\n",
    "\n",
    "Complete the exercises above and and upload the notebook to your GitHub repository. Make sure the notebook has a Colab badge at the top so that it can be easily opened in Google Colab. Submit the URL of the notebook to Canvas."
   ]
  }
 ],
 "metadata": {
  "kernelspec": {
   "display_name": "geo",
   "language": "python",
   "name": "python3"
  },
  "language_info": {
   "codemirror_mode": {
    "name": "ipython",
    "version": 3
   },
   "file_extension": ".py",
   "mimetype": "text/x-python",
   "name": "python",
   "nbconvert_exporter": "python",
   "pygments_lexer": "ipython3",
   "version": "3.12.9"
  }
 },
 "nbformat": 4,
 "nbformat_minor": 5
}
