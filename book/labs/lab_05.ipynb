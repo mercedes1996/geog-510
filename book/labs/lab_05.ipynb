{
 "cells": [
  {
   "cell_type": "markdown",
   "id": "0",
   "metadata": {},
   "source": [
    "# Lab 5\n",
    "\n",
    "## Exercise 1: Calculating Distances with Functions\n",
    "\n",
    "- Define a function `calculate_distance` that takes two geographic coordinates (latitude and longitude) and returns the distance between them using the Haversine formula.\n",
    "- Use this function to calculate the distance between multiple pairs of coordinates."
   ]
  },
  {
   "cell_type": "code",
   "execution_count": null,
   "id": "1",
   "metadata": {},
   "outputs": [],
   "source": [
    "from math import radians, sin, cos, sqrt, atan2"
   ]
  },
  {
   "cell_type": "code",
   "execution_count": null,
   "id": "2",
   "metadata": {},
   "outputs": [],
   "source": [
    "def haversine(lat1, lon1, lat2, lon2):\n",
    "    R = 6371.0  # Earth radius in kilometers\n",
    "    dlat = radians(lat2 - lat1)\n",
    "    dlon = radians(lon2 - lon1)\n",
    "    a = (\n",
    "        sin(dlat / 2) ** 2\n",
    "        + cos(radians(lat1)) * cos(radians(lat2)) * sin(dlon / 2) ** 2\n",
    "    )\n",
    "    c = 2 * atan2(sqrt(a), sqrt(1 - a))\n",
    "    distance = R * c\n",
    "    return distance\n",
    "\n",
    "\n",
    "# Example usage\n",
    "distance = haversine(38.6885, 19.6967, 30.0522, -18.2437)\n",
    "print(f\"Distance: {distance:.2f} km\")"
   ]
  },
  {
   "cell_type": "markdown",
   "id": "3",
   "metadata": {},
   "source": [
    "## Exercise 2: Batch Distance Calculation\n",
    "\n",
    "- Create a function `batch_distance_calculation` that accepts a list of coordinate pairs and returns a list of distances between consecutive pairs.\n",
    "- Test the function with a list of coordinates representing several cities."
   ]
  },
  {
   "cell_type": "code",
   "execution_count": null,
   "id": "4",
   "metadata": {},
   "outputs": [],
   "source": [
    "from math import radians, sin, cos, sqrt, atan2"
   ]
  },
  {
   "cell_type": "code",
   "execution_count": null,
   "id": "5",
   "metadata": {},
   "outputs": [],
   "source": [
    "def haversine(lat1, lon1, lat2, lon2):\n",
    "    R = 6371.0  # Earth radius in kilometers\n",
    "    dlat = radians(lat2 - lat1)\n",
    "    dlon = radians(lon2 - lon1)\n",
    "    a = (\n",
    "        sin(dlat / 2) ** 2\n",
    "        + cos(radians(lat1)) * cos(radians(lat2)) * sin(dlon / 2) ** 2\n",
    "    )\n",
    "    c = 2 * atan2(sqrt(a), sqrt(1 - a))\n",
    "    distance = R * c\n",
    "    return distance\n",
    "\n",
    "\n",
    "lima = (-12.0464, -77.0428)\n",
    "cusco = (-13.5319, -71.9675)\n",
    "tarapoto = (-6.4833, -76.3667)\n",
    "iquitos = (-3.7491, -73.2538)\n",
    "\n",
    "distance_lima_cusco = haversine(*lima, *cusco)\n",
    "distance_cusco_tarapoto = haversine(*cusco, *tarapoto)\n",
    "distance_tarapoto_iquitos = haversine(*tarapoto, *iquitos)\n",
    "\n",
    "# 3 examples of distance calculation\n",
    "print(f\"Distance Lima → Cusco: {distance_lima_cusco:.2f} km\")\n",
    "print(f\"Distance Cusco → Tarapoto: {distance_cusco_tarapoto:.2f} km\")\n",
    "print(f\"Distance Tarapoto → Iquitos: {distance_tarapoto_iquitos:.2f} km\")"
   ]
  },
  {
   "cell_type": "markdown",
   "id": "6",
   "metadata": {},
   "source": [
    "## Exercise 3: Creating and Using a Point Class\n",
    "\n",
    "- Define a `Point` class to represent a geographic point with attributes `latitude`, `longitude`, and `name`.\n",
    "- Add a method `distance_to` that calculates the distance from one point to another.\n",
    "- Instantiate several `Point` objects and calculate the distance between them."
   ]
  },
  {
   "cell_type": "code",
   "execution_count": null,
   "id": "7",
   "metadata": {},
   "outputs": [],
   "source": [
    "class Point:\n",
    "    def __init__(self, latitude, longitude, name=None):\n",
    "        self.latitude = latitude\n",
    "        self.longitude = longitude\n",
    "        self.name = name\n",
    "\n",
    "    def __str__(self):\n",
    "        return f\"{self.name or 'Point'} ({self.latitude}, {self.longitude})\"\n",
    "\n",
    "\n",
    "# define a point in lima\n",
    "lima = Point(-12.0464, -77.0428, \"lima\")\n",
    "print(lima)"
   ]
  },
  {
   "cell_type": "code",
   "execution_count": null,
   "id": "8",
   "metadata": {},
   "outputs": [],
   "source": [
    "class Point:\n",
    "    def __init__(self, latitude, longitude, name=None):\n",
    "        self.latitude = latitude\n",
    "        self.longitude = longitude\n",
    "        self.name = name\n",
    "\n",
    "    def distance_to(self, other_point):\n",
    "        return haversine(\n",
    "            self.latitude, self.longitude, other_point.latitude, other_point.longitude\n",
    "        )\n",
    "\n",
    "\n",
    "lima = Point(-12.0464, -77.0428, \"lima\")\n",
    "cusco = Point(-13.5319, -71.9675, \"cusco\")\n",
    "print(f\"Distance from {lima.name} to {cusco.name}: {lima.distance_to(cusco):.2f} km\")"
   ]
  },
  {
   "cell_type": "markdown",
   "id": "9",
   "metadata": {},
   "source": [
    "## Exercise 4: Reading and Writing Files\n",
    "\n",
    "- Write a function `read_coordinates` that reads a file containing a list of coordinates (latitude, longitude) and returns them as a list of tuples.\n",
    "- Write another function `write_coordinates` that takes a list of coordinates and writes them to a new file.\n",
    "- Ensure that both functions handle exceptions, such as missing files or improperly formatted data."
   ]
  },
  {
   "cell_type": "code",
   "execution_count": null,
   "id": "10",
   "metadata": {},
   "outputs": [],
   "source": [
    "sample_data = \"\"\"-12.0464,-77.0428\n",
    "-13.532,-71.9675\n",
    "-3.766,-73.2538\"\"\"\n",
    "\n",
    "output_file = \"coordinates.txt\"\n",
    "\n",
    "try:\n",
    "    with open(output_file, \"w\") as file:\n",
    "        file.write(sample_data)\n",
    "    print(f\"Sample file '{output_file}' has been created successfully.\")\n",
    "except Exception as e:\n",
    "    print(f\"An error occurred while creating the file: {e}\")"
   ]
  },
  {
   "cell_type": "code",
   "execution_count": null,
   "id": "11",
   "metadata": {},
   "outputs": [],
   "source": [
    "def read_coordinates(file_path):\n",
    "    \"\"\"Reads coordinates from a file and returns a list of (latitude, longitude) tuples.\"\"\"\n",
    "    coordinates = []\n",
    "    try:\n",
    "        with open(file_path, \"r\") as file:\n",
    "            for line in file:\n",
    "                try:\n",
    "                    lat, lon = map(float, line.strip().split(\",\"))\n",
    "                    coordinates.append((lat, lon))\n",
    "                except ValueError:\n",
    "                    print(f\"Skipping invalid line: {line.strip()}\")\n",
    "    except FileNotFoundError:\n",
    "        print(f\"Error: The file '{file_path}' was not found.\")\n",
    "\n",
    "    return coordinates\n",
    "\n",
    "\n",
    "def write_coordinates(file_path, coordinates):\n",
    "    \"\"\"Writes a list of coordinates to a file.\"\"\"\n",
    "    try:\n",
    "        with open(file_path, \"w\") as file:\n",
    "            for lat, lon in coordinates:\n",
    "                file.write(f\"Latitude: {lat}, Longitude: {lon}\\n\")\n",
    "        print(f\"Coordinates successfully written to {file_path}\")\n",
    "    except Exception as e:\n",
    "        print(f\"Error writing to file: {e}\")\n",
    "\n",
    "\n",
    "input_file = \"coordinates.txt\"\n",
    "output_file = \"output_coordinates.txt\"\n",
    "\n",
    "coords = read_coordinates(input_file)\n",
    "print(coords)\n",
    "\n",
    "if coords:\n",
    "    write_coordinates(output_file, coords)"
   ]
  },
  {
   "cell_type": "markdown",
   "id": "12",
   "metadata": {},
   "source": [
    "## Exercise 5: Processing Coordinates from a File\n",
    "\n",
    "- Create a function that reads coordinates from a file and uses the `Point` class to create `Point` objects.\n",
    "- Calculate the distance between each consecutive pair of points and write the results to a new file.\n",
    "- Ensure the function handles file-related exceptions and gracefully handles improperly formatted lines."
   ]
  },
  {
   "cell_type": "code",
   "execution_count": null,
   "id": "13",
   "metadata": {},
   "outputs": [],
   "source": [
    "sample_data = \"\"\"35.6895,139.6917\n",
    "34.0522,-118.2437\n",
    "51.5074,-0.1278\n",
    "-33.8688,151.2093\n",
    "48.8566,2.3522\"\"\"\n",
    "\n",
    "output_file = \"coordinates.txt\"\n",
    "\n",
    "try:\n",
    "    with open(output_file, \"w\") as file:\n",
    "        file.write(sample_data)\n",
    "    print(f\"Sample file '{output_file}' has been created successfully.\")\n",
    "except Exception as e:\n",
    "    print(f\"An error occurred while creating the file: {e}\")"
   ]
  },
  {
   "cell_type": "code",
   "execution_count": null,
   "id": "14",
   "metadata": {},
   "outputs": [],
   "source": [
    "!pip install geopy"
   ]
  },
  {
   "cell_type": "code",
   "execution_count": null,
   "id": "15",
   "metadata": {},
   "outputs": [],
   "source": [
    "from geopy.distance import geodesic\n",
    "\n",
    "\n",
    "class Point:\n",
    "    \"\"\"Represents a geographic point with latitude and longitude.\"\"\"\n",
    "\n",
    "    def __init__(self, latitude, longitude):\n",
    "        self.latitude = latitude\n",
    "        self.longitude = longitude\n",
    "\n",
    "    def get_coordinates(self):\n",
    "        return (self.latitude, self.longitude)\n",
    "\n",
    "\n",
    "def read_points(file_path):\n",
    "    \"\"\"Reads a file with coordinates and returns a list of Point objects.\"\"\"\n",
    "    points = []\n",
    "    try:\n",
    "        with open(file_path, \"r\") as file:\n",
    "            for line in file:\n",
    "                try:\n",
    "                    lat, lon = map(float, line.strip().split(\",\"))\n",
    "                    points.append(Point(lat, lon))\n",
    "                except ValueError:\n",
    "                    print(f\"Skipping invalid line: {line.strip()}\")\n",
    "    except FileNotFoundError:\n",
    "        print(f\"Error: The file '{file_path}' was not found.\")\n",
    "\n",
    "    return points\n",
    "\n",
    "\n",
    "def calculate_distances(points, output_file):\n",
    "    \"\"\"Calculates distances between consecutive points and writes results to a file.\"\"\"\n",
    "    try:\n",
    "        with open(output_file, \"w\") as file:\n",
    "            for i in range(len(points) - 1):\n",
    "                point1 = points[i].get_coordinates()\n",
    "                point2 = points[i + 1].get_coordinates()\n",
    "                distance = geodesic(point1, point2).kilometers\n",
    "                file.write(\n",
    "                    f\"Distance between {point1} and {point2}: {distance:.2f} km\\n\"\n",
    "                )\n",
    "        print(f\"Distances successfully written to {output_file}\")\n",
    "    except Exception as e:\n",
    "        print(f\"Error writing to file: {e}\")\n",
    "\n",
    "\n",
    "# Example usage:\n",
    "input_file = \"coordinates.txt\"\n",
    "output_file = \"distances.txt\"\n",
    "\n",
    "points = read_points(input_file)  # Read coordinates as Point objects\n",
    "if points:\n",
    "    calculate_distances(points, output_file)  # Calculate and save distances"
   ]
  },
  {
   "cell_type": "markdown",
   "id": "16",
   "metadata": {},
   "source": [
    "## Exercise 6: Exception Handling in Data Processing\n",
    "\n",
    "- Modify the `batch_distance_calculation` function to handle exceptions that might occur during the calculation, such as invalid coordinates.\n",
    "- Ensure the function skips invalid data and continues processing the remaining data."
   ]
  },
  {
   "cell_type": "code",
   "execution_count": null,
   "id": "17",
   "metadata": {},
   "outputs": [],
   "source": [
    "from geopy.distance import geodesic\n",
    "\n",
    "\n",
    "def parse_coordinates(line):\n",
    "    try:\n",
    "        lat, lon = line.strip().split(\",\")\n",
    "        lat = float(lat)\n",
    "        lon = float(lon)\n",
    "        return lat, lon\n",
    "    except ValueError as e:\n",
    "        print(f\"Error: {e}. Could not parse line: {line.strip()}\")\n",
    "        return None\n",
    "    except Exception as e:\n",
    "        print(f\"An unexpected error occurred: {e}\")\n",
    "        return None\n",
    "\n",
    "\n",
    "def batch_distance_calculation(coordinate_lines, reference_point):\n",
    "    distances = []\n",
    "    for line in coordinate_lines:\n",
    "        coords = parse_coordinates(line)\n",
    "        if coords:  # this is a valid coordinate\n",
    "            try:\n",
    "                distance = geodesic(reference_point, coords).kilometers\n",
    "                distances.append(distance)\n",
    "            except Exception as e:\n",
    "                print(f\"Error calculating distance for {coords}: {e}\")\n",
    "                continue  # this is a valid coordinate\n",
    "    return distances\n",
    "\n",
    "\n",
    "reference_point = (10.0, 20.0)\n",
    "coordinate_lines = [\"10.5,20.5\", \"invalid data\", \"11.0,21.0\"]\n",
    "\n",
    "distances = batch_distance_calculation(coordinate_lines, reference_point)\n",
    "print(\"Calculated distances:\", distances)"
   ]
  },
  {
   "cell_type": "code",
   "execution_count": null,
   "id": "18",
   "metadata": {},
   "outputs": [],
   "source": []
  },
  {
   "cell_type": "markdown",
   "id": "19",
   "metadata": {},
   "source": [
    "## Exercise 7: NumPy Array Operations and Geospatial Coordinates\n",
    "\n",
    "In this exercise, you will work with NumPy arrays representing geospatial coordinates (latitude and longitude) and perform basic array operations.\n",
    "\n",
    "1. Create a 2D NumPy array containing the latitude and longitude of the following cities: Tokyo (35.6895, 139.6917), New York (40.7128, -74.0060), London (51.5074, -0.1278), and Paris (48.8566, 2.3522).\n",
    "2. Convert the latitude and longitude values from degrees to radians using np.radians().\n",
    "3. Calculate the element-wise difference between Tokyo and the other cities' latitude and longitude in radians."
   ]
  },
  {
   "cell_type": "code",
   "execution_count": null,
   "id": "20",
   "metadata": {},
   "outputs": [],
   "source": [
    "import numpy as np"
   ]
  },
  {
   "cell_type": "code",
   "execution_count": null,
   "id": "21",
   "metadata": {},
   "outputs": [],
   "source": [
    "# Creating a 1D array\n",
    "arr_1d = np.array([1, 2, 3, 4, 5])\n",
    "print(f\"1D Array: {arr_1d}\")"
   ]
  },
  {
   "cell_type": "code",
   "execution_count": null,
   "id": "22",
   "metadata": {},
   "outputs": [],
   "source": [
    "cities = np.array(\n",
    "    [\n",
    "        [35.6895, 139.6917],  # Tokyo\n",
    "        [40.7128, -74.0060],  # New York\n",
    "        [51.5074, -0.1278],  # London\n",
    "        [48.8566, 2.3522],  # Paris\n",
    "    ]\n",
    ")"
   ]
  },
  {
   "cell_type": "code",
   "execution_count": null,
   "id": "23",
   "metadata": {},
   "outputs": [],
   "source": [
    "cities_radius = np.array(cities)\n",
    "print(cities_radius)"
   ]
  },
  {
   "cell_type": "code",
   "execution_count": null,
   "id": "24",
   "metadata": {},
   "outputs": [],
   "source": [
    "tokio_radius = cities_radius[0]\n",
    "diferencia = cities_radius - tokio_radius"
   ]
  },
  {
   "cell_type": "code",
   "execution_count": null,
   "id": "25",
   "metadata": {},
   "outputs": [],
   "source": [
    "print(\"cities in radians : /n\", cities_radius)\n",
    "print(\"/nElement-wise difference from Tokyo:/n\", diferencia)"
   ]
  },
  {
   "cell_type": "markdown",
   "id": "26",
   "metadata": {},
   "source": [
    "## Exercise 8: Pandas DataFrame Operations with Geospatial Data\n",
    "\n",
    "In this exercise, you'll use Pandas to load and manipulate a dataset containing city population data, and then calculate and visualize statistics.\n",
    "\n",
    "1. Load the world cities dataset from this URL using Pandas: https://github.com/opengeos/datasets/releases/download/world/world_cities.csv\n",
    "2. Display the first 5 rows and check for missing values.\n",
    "3. Filter the dataset to only include cities with a population greater than 1 million.\n",
    "4. Group the cities by their country and calculate the total population for each country.\n",
    "5. Sort the cities by population in descending order and display the top 10 cities."
   ]
  },
  {
   "cell_type": "code",
   "execution_count": null,
   "id": "27",
   "metadata": {},
   "outputs": [],
   "source": [
    "import pandas as pd"
   ]
  },
  {
   "cell_type": "code",
   "execution_count": null,
   "id": "28",
   "metadata": {},
   "outputs": [],
   "source": [
    "url = \"https://github.com/opengeos/datasets/releases/download/world/world_cities.csv\"\n",
    "df = pd.read_csv(url)"
   ]
  },
  {
   "cell_type": "code",
   "execution_count": null,
   "id": "29",
   "metadata": {},
   "outputs": [],
   "source": [
    "print(\"First 5 rows of the DataFrame:\")\n",
    "print(df.head())"
   ]
  },
  {
   "cell_type": "code",
   "execution_count": null,
   "id": "30",
   "metadata": {},
   "outputs": [],
   "source": [
    "print(\"/nMissing values:/n\", df.isnull().sum())\n",
    "print(df.isnull().sum())"
   ]
  },
  {
   "cell_type": "code",
   "execution_count": null,
   "id": "31",
   "metadata": {},
   "outputs": [],
   "source": [
    "df_large_cities = df[df[\"population\"] > 10**6]"
   ]
  },
  {
   "cell_type": "code",
   "execution_count": null,
   "id": "32",
   "metadata": {},
   "outputs": [],
   "source": [
    "country_population = (\n",
    "    df_large_cities.groupby(\"country\")[\"population\"].sum().reset_index()\n",
    ")"
   ]
  },
  {
   "cell_type": "code",
   "execution_count": null,
   "id": "33",
   "metadata": {},
   "outputs": [],
   "source": [
    "top_cities = df_large_cities.sort_values(\"population\", ascending=False).head(10)"
   ]
  },
  {
   "cell_type": "code",
   "execution_count": null,
   "id": "34",
   "metadata": {},
   "outputs": [],
   "source": [
    "print(\"/nTop 10 Largest cities:/n\", top_cities)\n",
    "print(top_cities[[\"name\", \"country\", \"population\"]])"
   ]
  },
  {
   "cell_type": "code",
   "execution_count": null,
   "id": "35",
   "metadata": {},
   "outputs": [],
   "source": [
    "print(\"\\nTotal population per country (only considering cities > 1M):\")\n",
    "print(country_population.sort_values(by=\"population\", ascending=False).head(10))"
   ]
  },
  {
   "cell_type": "code",
   "execution_count": null,
   "id": "36",
   "metadata": {},
   "outputs": [],
   "source": [
    "# Filtering rows based on a condition\n",
    "df_head = df[df[\"population\"] > 1000000]\n",
    "df_head"
   ]
  },
  {
   "cell_type": "markdown",
   "id": "37",
   "metadata": {},
   "source": [
    "## Exercise 9: Creating and Manipulating GeoDataFrames with GeoPandas\n",
    "\n",
    "This exercise focuses on creating and manipulating GeoDataFrames, performing spatial operations, and visualizing the data.\n",
    "\n",
    "1. Load the New York City building dataset from the GeoJSON file using GeoPandas: https://github.com/opengeos/datasets/releases/download/places/nyc_buildings.geojson\n",
    "2. Create a plot of the building footprints and color them based on the building height (use the `height_MS` column).\n",
    "3. Create an interactive map of the building footprints and color them based on the building height (use the `height_MS` column).\n",
    "4. Calculate the average building height (use the `height_MS` column).\n",
    "5. Select buildings with a height greater than the average height.\n",
    "6. Save the GeoDataFrame to a new GeoJSON file."
   ]
  },
  {
   "cell_type": "code",
   "execution_count": null,
   "id": "38",
   "metadata": {},
   "outputs": [],
   "source": [
    "%pip install geopandas"
   ]
  },
  {
   "cell_type": "code",
   "execution_count": null,
   "id": "39",
   "metadata": {},
   "outputs": [],
   "source": [
    "import pandas as pd\n",
    "import geopandas as gpd\n",
    "import matplotlib.pyplot as plt"
   ]
  },
  {
   "cell_type": "code",
   "execution_count": null,
   "id": "40",
   "metadata": {},
   "outputs": [],
   "source": [
    "url = \"https://github.com/opengeos/datasets/releases/download/places/nyc_buildings.geojson\"\n",
    "gdf = gpd.read_file(url)"
   ]
  },
  {
   "cell_type": "code",
   "execution_count": null,
   "id": "41",
   "metadata": {},
   "outputs": [],
   "source": [
    "df = pd.DataFrame(gdf.drop(columns=\"geometry\"))"
   ]
  },
  {
   "cell_type": "code",
   "execution_count": null,
   "id": "42",
   "metadata": {},
   "outputs": [],
   "source": [
    "plt.figure(figsize=(10, 6))\n",
    "df[\"height_MS\"].plot(kind=\"hist\", bins=30, color=\"skyblue\", edgecolor=\"black\")\n",
    "plt.xlabel(\"Building Height (meteres)\")\n",
    "plt.ylabel(\"Frequency\")\n",
    "plt.title(\"Distribution of Building Heights in NYC\")\n",
    "plt.grid(True)\n",
    "plt.show()"
   ]
  },
  {
   "cell_type": "code",
   "execution_count": null,
   "id": "43",
   "metadata": {},
   "outputs": [],
   "source": [
    "avg_height = df[\"height_MS\"].mean()\n",
    "print(f\"/nAverage building height: {avg_height:.2f} meters\")"
   ]
  },
  {
   "cell_type": "code",
   "execution_count": null,
   "id": "44",
   "metadata": {},
   "outputs": [],
   "source": [
    "output_file = \"nyc_taller_buildings.geojson\"\n",
    "taller_buildings = gdf[gdf[\"height_MS\"] > avg_height]\n",
    "print(f\"/nTaller buildings saved to '{output_file}'\")"
   ]
  },
  {
   "cell_type": "markdown",
   "id": "45",
   "metadata": {},
   "source": [
    "## Exercise 10: Combining NumPy, Pandas, and GeoPandas\n",
    "\n",
    "This exercise requires you to combine the power of NumPy, Pandas, and GeoPandas to analyze and visualize spatial data.\n",
    "\n",
    "1. Use Pandas to load the world cities dataset from this URL: https://github.com/opengeos/datasets/releases/download/world/world_cities.csv\n",
    "2. Filter the dataset to include only cities with latitude values between -40 and 60 (i.e., cities located in the Northern Hemisphere or near the equator).\n",
    "3. Create a GeoDataFrame from the filtered dataset by converting the latitude and longitude into geometries.\n",
    "4. Reproject the GeoDataFrame to the Mercator projection (EPSG:3857).\n",
    "5. Calculate the distance (in meters) between each city and the city of Paris.\n",
    "6. Plot the cities on a world map, coloring the points by their distance from Paris."
   ]
  },
  {
   "cell_type": "code",
   "execution_count": null,
   "id": "46",
   "metadata": {},
   "outputs": [],
   "source": [
    "import numpy as np\n",
    "import pandas as pd\n",
    "import geopandas as gpd\n",
    "from shapely.geometry import Point\n",
    "import matplotlib.pyplot as plt"
   ]
  },
  {
   "cell_type": "code",
   "execution_count": null,
   "id": "47",
   "metadata": {},
   "outputs": [],
   "source": [
    "data_url = (\n",
    "    \"https://github.com/opengeos/datasets/releases/download/world/world_cities.csv\"\n",
    ")\n",
    "df = pd.read_csv(data_url)"
   ]
  },
  {
   "cell_type": "code",
   "execution_count": null,
   "id": "48",
   "metadata": {},
   "outputs": [],
   "source": [
    "df_filtered = df[(df[\"latitude\"] >= -40) & (df[\"latitude\"] <= 60)]"
   ]
  },
  {
   "cell_type": "code",
   "execution_count": null,
   "id": "49",
   "metadata": {},
   "outputs": [],
   "source": [
    "df_filtered[\"geometry\"] = df_filtered.apply(\n",
    "    lambda row: Point(row[\"longitude\"], row[\"latitude\"]), axis=1\n",
    ")\n",
    "gdf = gpd.GeoDataFrame(df_filtered, geometry=\"geometry\", crs=\"EPSG:4326\")"
   ]
  },
  {
   "cell_type": "code",
   "execution_count": null,
   "id": "50",
   "metadata": {},
   "outputs": [],
   "source": [
    "gdf_mercator = gdf.to_crs(epsg=3857)\n",
    "\n",
    "\n",
    "paris_coords = (\n",
    "    gpd.GeoSeries([Point(2.3522, 48.8566)], crs=\"EPSG:4326\").to_crs(epsg=3857).iloc[0]\n",
    ")\n",
    "\n",
    "\n",
    "gdf_mercator[\"distance_to_paris\"] = gdf_mercator.geometry.apply(\n",
    "    lambda x: x.distance(paris_coords)\n",
    ")\n",
    "\n",
    "\n",
    "fig, ax = plt.subplots(figsize=(10, 6))\n",
    "gdf_mercator.plot(\n",
    "    column=\"distance_to_paris\",\n",
    "    cmap=\"plasma\",\n",
    "    legend=True,\n",
    "    markersize=1,\n",
    "    alpha=0.6,\n",
    "    ax=ax,\n",
    ")\n",
    "ax.set_title(\"Distance from Paris (EPSG:3857)\")\n",
    "plt.show()"
   ]
  },
  {
   "cell_type": "markdown",
   "id": "51",
   "metadata": {},
   "source": [
    "## Submission Requirements\n",
    "\n",
    "Complete the exercises above and and upload the notebook to your GitHub repository. Make sure the notebook has a Colab badge at the top so that it can be easily opened in Google Colab. Submit the URL of the notebook to Canvas."
   ]
  }
 ],
 "metadata": {
  "kernelspec": {
   "display_name": "geo",
   "language": "python",
   "name": "python3"
  },
  "language_info": {
   "codemirror_mode": {
    "name": "ipython",
    "version": 3
   },
   "file_extension": ".py",
   "mimetype": "text/x-python",
   "name": "python",
   "nbconvert_exporter": "python",
   "pygments_lexer": "ipython3",
   "version": "3.12.9"
  }
 },
 "nbformat": 4,
 "nbformat_minor": 5
}
