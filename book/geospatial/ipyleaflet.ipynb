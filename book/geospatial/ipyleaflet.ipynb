{
 "cells": [
  {
   "cell_type": "markdown",
   "metadata": {},
   "source": [
    "# Ipyleaflet\n",
    "\n",
    "[![Open In Colab](https://colab.research.google.com/assets/colab-badge.svg)](https://colab.research.google.com/github/giswqs/geog-510/blob/main/book/geospatial/ipyleaflet.ipynb)\n",
    "\n",
    "## Introduction\n",
    "**ipyleaflet** is a Python library that brings the power of **Leaflet.js** to **Jupyter Notebooks**. It allows interactive mapping, geospatial visualization, and dynamic map customization with widgets.\n",
    "\n",
    "### Learning Objectives\n",
    "By the end of this lecture, you will:\n",
    "- Understand what ipyleaflet is and how it differs from Folium.\n",
    "- Learn to create basic maps and add markers.\n",
    "- Explore how to use geospatial layers and data.\n",
    "- Customize maps with widgets and interactivity.\n",
    "\n",
    "## 1. Installing and Importing ipyleaflet\n",
    "To install ipyleaflet, run the following command:\n",
    "\n",
    "```bash\n",
    "pip install ipyleaflet\n",
    "```\n",
    "\n",
    "Then, import it in Python:"
   ]
  },
  {
   "cell_type": "code",
   "execution_count": null,
   "metadata": {},
   "outputs": [],
   "source": [
    "from ipyleaflet import Map, Marker"
   ]
  },
  {
   "cell_type": "markdown",
   "metadata": {},
   "source": [
    "## 2. Creating a Basic Map\n",
    "A simple ipyleaflet map can be created as follows:"
   ]
  },
  {
   "cell_type": "code",
   "execution_count": null,
   "metadata": {},
   "outputs": [],
   "source": [
    "m = Map(center=(37.7749, -122.4194), zoom=10)\n",
    "m"
   ]
  },
  {
   "cell_type": "markdown",
   "metadata": {},
   "source": [
    "### Map Parameters\n",
    "- `center`: The latitude and longitude of the map center.\n",
    "- `zoom`: The initial zoom level.\n",
    "\n",
    "## 3. Adding Markers\n",
    "Markers help highlight specific locations on the map."
   ]
  },
  {
   "cell_type": "code",
   "execution_count": null,
   "metadata": {},
   "outputs": [],
   "source": [
    "marker = Marker(location=(37.7749, -122.4194))\n",
    "m.add_layer(marker)\n",
    "m"
   ]
  },
  {
   "cell_type": "markdown",
   "metadata": {},
   "source": [
    "## 4. Adding Tile Layers\n",
    "Different tile layers can be used to change the appearance of the map."
   ]
  },
  {
   "cell_type": "code",
   "execution_count": null,
   "metadata": {},
   "outputs": [],
   "source": [
    "from ipyleaflet import TileLayer\n",
    "\n",
    "m.add_layer(TileLayer(url=\"https://{s}.tile.opentopomap.org/{z}/{x}/{y}.png\"))\n",
    "m"
   ]
  },
  {
   "cell_type": "markdown",
   "metadata": {},
   "source": [
    "Common tile providers:\n",
    "- `OpenStreetMap`\n",
    "- `Stamen Terrain`\n",
    "- `CartoDB DarkMatter`\n",
    "\n",
    "## 5. Adding GeoJSON Layers\n",
    "GeoJSON files allow visualization of geospatial boundaries."
   ]
  },
  {
   "cell_type": "code",
   "execution_count": null,
   "metadata": {},
   "outputs": [],
   "source": [
    "from ipyleaflet import GeoJSON\n",
    "import json\n",
    "\n",
    "data = {\n",
    "    \"type\": \"FeatureCollection\",\n",
    "    \"features\": [\n",
    "        {\n",
    "            \"type\": \"Feature\",\n",
    "            \"geometry\": {\"type\": \"Point\", \"coordinates\": [-122.4194, 37.7749]},\n",
    "            \"properties\": {\"name\": \"San Francisco\"},\n",
    "        }\n",
    "    ],\n",
    "}\n",
    "\n",
    "gj = GeoJSON(data=data)\n",
    "m.add_layer(gj)\n",
    "m"
   ]
  },
  {
   "cell_type": "markdown",
   "metadata": {},
   "source": [
    "## 6. Adding a Choropleth Layer\n",
    "Choropleth maps visualize geographic data distributions."
   ]
  },
  {
   "cell_type": "code",
   "execution_count": null,
   "metadata": {},
   "outputs": [],
   "source": [
    "import os\n",
    "import json\n",
    "import random\n",
    "import requests\n",
    "\n",
    "from ipyleaflet import Map, GeoJSON\n",
    "\n",
    "if not os.path.exists(\"europe_110.geo.json\"):\n",
    "    url = \"https://github.com/jupyter-widgets/ipyleaflet/raw/master/examples/europe_110.geo.json\"\n",
    "    r = requests.get(url)\n",
    "    with open(\"europe_110.geo.json\", \"w\") as f:\n",
    "        f.write(r.content.decode(\"utf-8\"))\n",
    "\n",
    "with open(\"europe_110.geo.json\", \"r\") as f:\n",
    "    data = json.load(f)\n",
    "\n",
    "\n",
    "def random_color(feature):\n",
    "    return {\n",
    "        \"color\": \"black\",\n",
    "        \"fillColor\": random.choice([\"red\", \"yellow\", \"green\", \"orange\"]),\n",
    "    }\n",
    "\n",
    "\n",
    "m = Map(center=(50.6252978589571, 0.34580993652344), zoom=3)\n",
    "\n",
    "geo_json = GeoJSON(\n",
    "    data=data,\n",
    "    style={\"opacity\": 1, \"dashArray\": \"9\", \"fillOpacity\": 0.1, \"weight\": 1},\n",
    "    hover_style={\"color\": \"white\", \"dashArray\": \"0\", \"fillOpacity\": 0.5},\n",
    "    style_callback=random_color,\n",
    ")\n",
    "m.add(geo_json)\n",
    "\n",
    "m"
   ]
  },
  {
   "cell_type": "markdown",
   "metadata": {},
   "source": [
    "## 7. Adding Layer Controls\n",
    "To toggle layers dynamically:"
   ]
  },
  {
   "cell_type": "code",
   "execution_count": null,
   "metadata": {},
   "outputs": [],
   "source": [
    "from ipyleaflet import LayersControl\n",
    "\n",
    "m.add_control(LayersControl())\n",
    "m"
   ]
  },
  {
   "cell_type": "markdown",
   "metadata": {},
   "source": [
    "## 8. Adding Interactive Widgets\n",
    "Widgets enable real-time interaction with the map."
   ]
  },
  {
   "cell_type": "code",
   "execution_count": null,
   "metadata": {},
   "outputs": [],
   "source": [
    "from ipywidgets import FloatSlider\n",
    "\n",
    "zoom_slider = FloatSlider(description=\"Zoom Level\", min=1, max=20, value=m.zoom)\n",
    "\n",
    "\n",
    "def zoom_change(change):\n",
    "    m.zoom = change[\"new\"]\n",
    "\n",
    "\n",
    "zoom_slider.observe(zoom_change, \"value\")\n",
    "zoom_slider"
   ]
  },
  {
   "cell_type": "markdown",
   "metadata": {},
   "source": [
    "## 9. Adding an image overlay"
   ]
  },
  {
   "cell_type": "code",
   "execution_count": null,
   "metadata": {},
   "outputs": [],
   "source": [
    "from ipyleaflet import Map, ImageOverlay"
   ]
  },
  {
   "cell_type": "code",
   "execution_count": null,
   "metadata": {},
   "outputs": [],
   "source": [
    "m = Map(center=(25, -115), zoom=4)\n",
    "\n",
    "image = ImageOverlay(\n",
    "    url=\"https://i.imgur.com/06Q1fSz.png\",\n",
    "    # url='../06Q1fSz.png',\n",
    "    bounds=((13, -130), (32, -100)),\n",
    ")\n",
    "\n",
    "m.add(image)\n",
    "m"
   ]
  },
  {
   "cell_type": "code",
   "execution_count": null,
   "metadata": {},
   "outputs": [],
   "source": [
    "m = Map(center=(24, 115), zoom=4)\n",
    "\n",
    "image = ImageOverlay(url=\"https://i.gifer.com/4j.gif\", bounds=((13, 100), (45, 130)))\n",
    "\n",
    "m.add(image)\n",
    "m"
   ]
  },
  {
   "cell_type": "markdown",
   "metadata": {},
   "source": [
    "## 10. Adding a video overlay"
   ]
  },
  {
   "cell_type": "code",
   "execution_count": null,
   "metadata": {},
   "outputs": [],
   "source": [
    "from ipyleaflet import Map, VideoOverlay"
   ]
  },
  {
   "cell_type": "code",
   "execution_count": null,
   "metadata": {},
   "outputs": [],
   "source": [
    "m = Map(center=(25, -115), zoom=4)\n",
    "\n",
    "video = VideoOverlay(\n",
    "    url=\"https://www.mapbox.com/bites/00188/patricia_nasa.webm\",\n",
    "    bounds=((13, -130), (32, -100)),\n",
    ")\n",
    "\n",
    "m.add(video)\n",
    "m"
   ]
  },
  {
   "cell_type": "code",
   "execution_count": null,
   "metadata": {},
   "outputs": [],
   "source": [
    "m = Map(center=(37.562984, -122.514426), zoom=17)\n",
    "\n",
    "video = VideoOverlay(\n",
    "    url=\"https://static-assets.mapbox.com/mapbox-gl-js/drone.mp4\",\n",
    "    bounds=((37.56238816, -122.515963), (37.563391708, -122.5130939)),\n",
    ")\n",
    "m.add(video)\n",
    "m"
   ]
  },
  {
   "cell_type": "markdown",
   "metadata": {},
   "source": [
    "## 11. Adding WMS layers"
   ]
  },
  {
   "cell_type": "code",
   "execution_count": null,
   "metadata": {},
   "outputs": [],
   "source": [
    "from ipyleaflet import Map, WMSLayer, basemaps"
   ]
  },
  {
   "cell_type": "code",
   "execution_count": null,
   "metadata": {},
   "outputs": [],
   "source": [
    "wms = WMSLayer(\n",
    "    url=\"http://mesonet.agron.iastate.edu/cgi-bin/wms/nexrad/n0r.cgi\",\n",
    "    layers=\"nexrad-n0r-900913\",\n",
    "    format=\"image/png\",\n",
    "    transparent=True,\n",
    "    attribution=\"Weather data © 2012 IEM Nexrad\",\n",
    ")\n",
    "\n",
    "m = Map(basemap=basemaps.CartoDB.Positron, center=(38.491, -95.712), zoom=4)\n",
    "m.add(wms)\n",
    "m"
   ]
  },
  {
   "cell_type": "markdown",
   "metadata": {},
   "source": [
    "https://apps.nationalmap.gov/services/"
   ]
  },
  {
   "cell_type": "code",
   "execution_count": null,
   "metadata": {},
   "outputs": [],
   "source": [
    "wms = WMSLayer(\n",
    "    url=\"https://imagery.nationalmap.gov/arcgis/services/USGSNAIPPlus/ImageServer/WMSServer?\",\n",
    "    layers=\"USGSNAIPPlus:NaturalColor\",\n",
    "    format=\"image/png\",\n",
    "    transparent=True,\n",
    "    attribution=\"USGS\",\n",
    ")\n",
    "\n",
    "m = Map(basemap=basemaps.CartoDB.Positron, center=(38.491, -95.712), zoom=4)\n",
    "m.add(wms)\n",
    "m"
   ]
  },
  {
   "cell_type": "markdown",
   "metadata": {},
   "source": [
    "## Summary\n",
    "- **ipyleaflet** enables interactive mapping in Jupyter Notebooks.\n",
    "- Supports **markers, tile layers, GeoJSON, and choropleth maps**.\n",
    "- Interactive widgets enhance user experience.\n",
    "- Suitable for real-time geospatial data visualization.\n",
    "\n",
    "## Further Reading\n",
    "- [ipyleaflet Documentation](https://ipyleaflet.readthedocs.io/en/latest/)\n",
    "- [Leaflet.js Documentation](https://leafletjs.com/)"
   ]
  }
 ],
 "metadata": {
  "kernelspec": {
   "display_name": "Python 3 (ipykernel)",
   "language": "python",
   "name": "python3"
  },
  "language_info": {
   "codemirror_mode": {
    "name": "ipython",
    "version": 3
   },
   "file_extension": ".py",
   "mimetype": "text/x-python",
   "name": "python",
   "nbconvert_exporter": "python",
   "pygments_lexer": "ipython3",
   "version": "3.12.9"
  }
 },
 "nbformat": 4,
 "nbformat_minor": 4
}
