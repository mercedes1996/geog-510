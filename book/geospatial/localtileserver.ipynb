{
 "cells": [
  {
   "cell_type": "markdown",
   "id": "0",
   "metadata": {},
   "source": [
    "# Localtileserver\n",
    "\n",
    "[![Open In Colab](https://colab.research.google.com/assets/colab-badge.svg)](https://colab.research.google.com/github/giswqs/geog-510/blob/main/book/geospatial/localtileserver.ipynb)\n",
    "\n",
    "## Introduction\n",
    "**localtileserver** is a Python package that enables efficient visualization of large raster datasets, such as GeoTIFFs, using tiled web maps. It can be used in Jupyter notebooks with **ipyleaflet** or **folium**, from the command line in a web browser, and with remote Cloud Optimized GeoTIFFs (COGs).\n",
    "\n",
    "### Learning Objectives\n",
    "By the end of this lecture, you will:\n",
    "- Understand what **localtileserver** is and its use cases.\n",
    "- Learn how to serve raster data as map tiles.\n",
    "- Explore integration with **folium** and **ipyleaflet**.\n",
    "- Customize and optimize raster visualization.\n",
    "\n",
    "## 1. Installing and Importing localtileserver\n",
    "To install **localtileserver**, run:\n",
    "\n",
    "```bash\n",
    "pip install localtileserver\n",
    "```\n",
    "\n",
    "Then, import the required modules:"
   ]
  },
  {
   "cell_type": "code",
   "execution_count": null,
   "id": "1",
   "metadata": {},
   "outputs": [],
   "source": [
    "from localtileserver import (\n",
    "    TileClient,\n",
    "    get_leaflet_tile_layer,\n",
    "    get_folium_tile_layer,\n",
    "    examples,\n",
    ")"
   ]
  },
  {
   "cell_type": "markdown",
   "id": "2",
   "metadata": {},
   "source": [
    "## 2. Serving a Local Raster File\n",
    "\n",
    "To visualize a GeoTIFF, use the **TileClient**:"
   ]
  },
  {
   "cell_type": "code",
   "execution_count": null,
   "id": "3",
   "metadata": {},
   "outputs": [],
   "source": [
    "filepath = \"https://github.com/opengeos/datasets/releases/download/raster/dem.tif\"\n",
    "client = TileClient(filepath)\n",
    "print(client.get_tile_url())  # Prints the local tile service URL"
   ]
  },
  {
   "cell_type": "code",
   "execution_count": null,
   "id": "4",
   "metadata": {},
   "outputs": [],
   "source": [
    "client.center()"
   ]
  },
  {
   "cell_type": "code",
   "execution_count": null,
   "id": "5",
   "metadata": {},
   "outputs": [],
   "source": [
    "client.default_zoom"
   ]
  },
  {
   "cell_type": "markdown",
   "id": "6",
   "metadata": {},
   "source": [
    "Alternatively, you can use example data:"
   ]
  },
  {
   "cell_type": "code",
   "execution_count": null,
   "id": "7",
   "metadata": {},
   "outputs": [],
   "source": [
    "client = examples.get_san_francisco()\n",
    "client"
   ]
  },
  {
   "cell_type": "markdown",
   "id": "8",
   "metadata": {},
   "source": [
    "## 3. Retrieving Tiles and Thumbnails\n",
    "\n",
    "To retrieve a single tile (z, x, y):"
   ]
  },
  {
   "cell_type": "code",
   "execution_count": null,
   "id": "9",
   "metadata": {},
   "outputs": [],
   "source": [
    "client.tile(10, 163, 395)"
   ]
  },
  {
   "cell_type": "markdown",
   "id": "10",
   "metadata": {},
   "source": [
    "To generate a thumbnail preview:"
   ]
  },
  {
   "cell_type": "code",
   "execution_count": null,
   "id": "11",
   "metadata": {},
   "outputs": [],
   "source": [
    "client.thumbnail()"
   ]
  },
  {
   "cell_type": "markdown",
   "id": "12",
   "metadata": {},
   "source": [
    "## 4. Integrating with ipyleaflet\n",
    "\n",
    "To display raster data on an **ipyleaflet** map:"
   ]
  },
  {
   "cell_type": "code",
   "execution_count": null,
   "id": "13",
   "metadata": {},
   "outputs": [],
   "source": [
    "from ipyleaflet import Map\n",
    "\n",
    "client = examples.get_elevation()\n",
    "tile_layer = get_leaflet_tile_layer(\n",
    "    client, indexes=1, vmin=-5000, vmax=5000, opacity=0.65\n",
    ")\n",
    "\n",
    "m = Map(zoom=3)\n",
    "m.add(tile_layer)\n",
    "m"
   ]
  },
  {
   "cell_type": "markdown",
   "id": "14",
   "metadata": {},
   "source": [
    "## 5. Integrating with Folium\n",
    "\n",
    "To display raster data on a **folium** map:"
   ]
  },
  {
   "cell_type": "code",
   "execution_count": null,
   "id": "15",
   "metadata": {},
   "outputs": [],
   "source": [
    "from folium import Map\n",
    "\n",
    "client = examples.get_oam2()\n",
    "tile_layer = get_folium_tile_layer(client)\n",
    "\n",
    "m = Map(location=client.center(), zoom_start=16)\n",
    "m.add_child(tile_layer)\n",
    "m"
   ]
  },
  {
   "cell_type": "markdown",
   "id": "16",
   "metadata": {},
   "source": [
    "## Summary\n",
    "- **localtileserver** serves raster data as interactive tile layers.\n",
    "- It integrates seamlessly with **folium** and **ipyleaflet**.\n",
    "- Supports local and remote raster files, including COGs.\n",
    "- Allows customization with colormaps and resampling methods.\n",
    "\n",
    "## Further Reading\n",
    "- [localtileserver Documentation](https://github.com/banesullivan/localtileserver)\n",
    "- [Folium Documentation](https://python-visualization.github.io/folium/)\n",
    "- [ipyleaflet Documentation](https://ipyleaflet.readthedocs.io/)\n",
    "\n",
    "---\n",
    "\n",
    "### Assignment\n",
    "1. Install **localtileserver** and serve a local raster file.\n",
    "2. Visualize the raster data in both **folium** and **ipyleaflet**.\n",
    "3. Apply a colormap to customize the visualization.\n",
    "4. Submit your Jupyter Notebook with the implementation.\n",
    "\n",
    "### Feedback\n",
    "If you encounter issues or have feature requests, please open a discussion or issue on the [localtileserver GitHub page](https://github.com/banesullivan/localtileserver/discussions).\n",
    "\n",
    "For debugging, generate a system report:"
   ]
  },
  {
   "cell_type": "code",
   "execution_count": null,
   "id": "17",
   "metadata": {},
   "outputs": [],
   "source": [
    "import localtileserver\n",
    "\n",
    "print(localtileserver.Report())"
   ]
  },
  {
   "cell_type": "markdown",
   "id": "18",
   "metadata": {},
   "source": [
    "Happy Mapping! 🌍"
   ]
  }
 ],
 "metadata": {
  "kernelspec": {
   "display_name": "geo",
   "language": "python",
   "name": "python3"
  },
  "language_info": {
   "codemirror_mode": {
    "name": "ipython",
    "version": 3
   },
   "file_extension": ".py",
   "mimetype": "text/x-python",
   "name": "python",
   "nbconvert_exporter": "python",
   "pygments_lexer": "ipython3",
   "version": "3.12.2"
  }
 },
 "nbformat": 4,
 "nbformat_minor": 5
}
